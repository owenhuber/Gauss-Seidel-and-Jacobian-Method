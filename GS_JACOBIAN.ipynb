{
 "cells": [
  {
   "cell_type": "code",
   "execution_count": 1,
   "id": "b4a938d3",
   "metadata": {},
   "outputs": [],
   "source": [
    "import numpy as np\n",
    "import sys\n",
    "from numpy import linalg as LA\n",
    "import matplotlib.pyplot as plt\n",
    "from sympy import *"
   ]
  },
  {
   "cell_type": "code",
   "execution_count": 2,
   "id": "ba6de118",
   "metadata": {},
   "outputs": [],
   "source": [
    "#Arrays to test with\n",
    "B = np.array([[1,1],[0,4]])\n",
    "c = np.array([1,6])\n",
    "dog = np.array([0,0])"
   ]
  },
  {
   "cell_type": "code",
   "execution_count": 3,
   "id": "71fc7a81",
   "metadata": {},
   "outputs": [],
   "source": [
    "#Jacobi function\n",
    "def Jacobi(A,b, x, iterations):\n",
    "    \n",
    "    # first we creat an array of the diagonals of A \n",
    "    \n",
    "    diagonals_A = np.diag(A)\n",
    "    \n",
    "    # then we make an array only of diagonals to assist calculations\n",
    "    \n",
    "    except_diagonals = A - np.diagflat(diagonals_A)\n",
    "    \n",
    "    # by dotting x with matrix of everything except the given diagonal \n",
    "    # we can contain our code to operate on one vector while iterating through\n",
    "    # the desired system of equations\n",
    "    \n",
    "    for i in np.arange(iterations):\n",
    "        x = (b - np.dot(except_diagonals, x))/diagonals_A\n",
    "    return x\n",
    "    "
   ]
  },
  {
   "cell_type": "code",
   "execution_count": 4,
   "id": "274706bb",
   "metadata": {},
   "outputs": [],
   "source": [
    "#Gauss-Seidel function\n",
    "def Gauss_Seidel(A, b, x, iterations):\n",
    "                 \n",
    "     # first we creat an array of the diagonals of A \n",
    "    \n",
    "    diagonals_A = np.diag(A)\n",
    "    \n",
    "    # then we make an array only of diagonals to assist calculations\n",
    "    \n",
    "    except_diagonals = A - np.diagflat(diagonals_A)\n",
    "                 \n",
    "    # our first iteration we call y, and operate on\n",
    "                 \n",
    "    y = (b - np.dot(except_diagonals, x))/diagonals_A\n",
    "    \n",
    "    # by dotting x with matrix of everything except the given diagonal \n",
    "    # we can contain our code to operate on one vector while iterating through\n",
    "    # the desired system of equations\n",
    "    \n",
    "    for i in np.arange (iterations):\n",
    "        \n",
    "        # the inner iteration will update y every time it goes through one line of \n",
    "        # equation, taking one part of whole vector each time\n",
    "        \n",
    "        for j in np.arange(len(x)-1):\n",
    "            y[j] = ((b - np.dot(except_diagonals, y))/diagonals_A)[j]\n",
    "       \n",
    "    return y\n",
    "    "
   ]
  },
  {
   "cell_type": "code",
   "execution_count": 7,
   "id": "c1da2732",
   "metadata": {},
   "outputs": [
    {
     "data": {
      "text/plain": [
       "array([-0.5,  1.5])"
      ]
     },
     "execution_count": 7,
     "metadata": {},
     "output_type": "execute_result"
    }
   ],
   "source": [
    "Gauss_Seidel(B, c, dog, 2)"
   ]
  },
  {
   "cell_type": "code",
   "execution_count": null,
   "id": "3b63cd5e",
   "metadata": {},
   "outputs": [],
   "source": []
  }
 ],
 "metadata": {
  "kernelspec": {
   "display_name": "Python 3",
   "language": "python",
   "name": "python3"
  },
  "language_info": {
   "codemirror_mode": {
    "name": "ipython",
    "version": 3
   },
   "file_extension": ".py",
   "mimetype": "text/x-python",
   "name": "python",
   "nbconvert_exporter": "python",
   "pygments_lexer": "ipython3",
   "version": "3.7.10"
  }
 },
 "nbformat": 4,
 "nbformat_minor": 5
}
